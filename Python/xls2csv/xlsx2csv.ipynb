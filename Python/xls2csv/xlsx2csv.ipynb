{
 "cells": [
  {
   "cell_type": "code",
   "execution_count": 1,
   "metadata": {
    "collapsed": true
   },
   "outputs": [],
   "source": [
    "import xlrd"
   ]
  },
  {
   "cell_type": "code",
   "execution_count": 2,
   "metadata": {
    "collapsed": true
   },
   "outputs": [],
   "source": [
    "inputfile = 'marktplaats-private-20170626.xlsx'\n",
    "outputfile = 'marktplaats-private-20170626-python4.csv'\n"
   ]
  },
  {
   "cell_type": "code",
   "execution_count": 3,
   "metadata": {
    "collapsed": true
   },
   "outputs": [],
   "source": [
    "\n",
    "\n",
    "wb = xlrd.open_workbook(inputfile)\n",
    "sheet1 = wb.sheet_by_index(0)"
   ]
  },
  {
   "cell_type": "code",
   "execution_count": 4,
   "metadata": {
    "collapsed": true
   },
   "outputs": [],
   "source": [
    "def deReturn(data, delimiter):\n",
    "    data = data.replace(\"\\\"\", \"\\\"\\\"\" )\n",
    "    \n",
    "    data_splitted = data.split('\\n' )\n",
    "    data_splitted = [item.strip() for item in data_splitted if item.strip() is not '']\n",
    "    delimiter = delimiter + ' '\n",
    "    data_result = delimiter.join(data_splitted)\n",
    "    return('\\\"'+data_result+'\\\"')\n",
    "\n",
    "def deKmL(data):\n",
    "    data = data.replace(\" km/l\",\"\")\n",
    "    data = data.replace(\",\",\".\")\n",
    "    return(data)\n",
    "    \n",
    "def deCc(data):\n",
    "    data = data.replace(\" cc\",\"\")\n",
    "    data = data.replace(\".\",\"\")\n",
    "    return(data)\n",
    "    \n",
    "def deKmH(data):\n",
    "    data = data.replace(\" km/h\",\"\")\n",
    "    data = data.replace(\",\",\".\")\n",
    "    return(data)\n",
    "\n",
    "def dePk(data):\n",
    "    data = data.replace(\" pk\",\"\")\n",
    "    data = data.replace(\",\",\".\")\n",
    "    return(data)\n",
    "\n",
    "def deKm(data):\n",
    "    data = data.replace(\" km\",\"\")\n",
    "    data = data.replace(\".\",\"\")\n",
    "    return(data)\n",
    "\n",
    "def deEuro(data):\n",
    "    data = data.replace(\"€ \",\"\")\n",
    "    data = data.replace(\".\",\"\")\n",
    "    data = data.replace(\",\",\".\")\n",
    "    return(data)\n",
    "\n",
    "def null2dash(data):\n",
    "    data = data.replace(\"null\",\"-\")\n",
    "    return(data)\n",
    "    "
   ]
  },
  {
   "cell_type": "code",
   "execution_count": 5,
   "metadata": {
    "collapsed": true
   },
   "outputs": [],
   "source": [
    "parsed_data = list()\n",
    "delimiter = ','\n",
    "\n",
    "\n",
    "for row in range(sheet1.nrows):\n",
    "    rowline = [deReturn(str(sheet1.cell(row, 0).value),',')]\n",
    "    for col in range(1,sheet1.ncols):\n",
    "        data = str(sheet1.cell(row, col).value)\n",
    "        \n",
    "        if col == 7:\n",
    "            data = deKmL(data)\n",
    "        elif col == 8:\n",
    "            data = deCc(data)\n",
    "        elif col ==9:\n",
    "            data = deKmH(data)\n",
    "        elif col == 10:\n",
    "            data = dePk(data)\n",
    "        elif col == 14:\n",
    "            data = deKm(data)\n",
    "        elif col == 16 or col == 18:\n",
    "            data = deEuro(data)\n",
    "            data = null2dash(data)\n",
    "            \n",
    "        \n",
    "        data = deReturn(data,',')\n",
    "        \n",
    "            \n",
    "        \n",
    "        \n",
    "        rowline.append(data)\n",
    "\n",
    "    parsed_data.append(delimiter.join(rowline))\n",
    "\n"
   ]
  },
  {
   "cell_type": "code",
   "execution_count": 152,
   "metadata": {},
   "outputs": [
    {
     "data": {
      "text/plain": [
       "'\"Citroen Xsara 1.8 I 16V Picasso 2002 Grijs\",\"https://www.marktplaats.nl/a/auto-s/citroen/m1173848841-citroen-xsara-1-8-i-16v-picasso-2002-grijs.html?c=df2f21f683612b45d62c413c0ca719df&previousPage=lr&pos=5\",\"Citroen XSARA\",\"1.8 I 16V PICASSO\",\"MPV\",\"Benzine\",\"Handgeschakeld 5 versnellingen\",\"12,99 km/l\",\"1.749 cc\",\"190 km/h\",\"116 pk\",\"2002.0\",\"18-HV-KB\",\"30 juni 2017\",\"239.900 km\",\"D\",\"€ 1.250,00\",\"-\",\"-\",\"Metallic lak, Boordcomputer, Airconditioning, Centrale vergrendeling, Climate control, Elektrische ramen, Trekhaak, Cruise Control, Airbags\",\"\",\"https://www.marktplaats.nl/z/auto-s.html?categoryId=91&attributes=S%2C10898%20S%2C10882&priceTo=1.750%2C00&currentPage=122\",\"Citroen Xsara 1.8 I 16V Picasso 2002 Grijs\",\"NAP gecontroleerd\",\"Joure, FR\",\"B.\"'"
      ]
     },
     "execution_count": 152,
     "metadata": {},
     "output_type": "execute_result"
    }
   ],
   "source": [
    "parsed_data[1]"
   ]
  },
  {
   "cell_type": "code",
   "execution_count": 6,
   "metadata": {
    "collapsed": true
   },
   "outputs": [],
   "source": [
    "with open(outputfile, 'w') as f:\n",
    "    for line in parsed_data:\n",
    "        f.write(line+'\\n')\n"
   ]
  }
 ],
 "metadata": {
  "kernelspec": {
   "display_name": "Python 3",
   "language": "python",
   "name": "python3"
  },
  "language_info": {
   "codemirror_mode": {
    "name": "ipython",
    "version": 3
   },
   "file_extension": ".py",
   "mimetype": "text/x-python",
   "name": "python",
   "nbconvert_exporter": "python",
   "pygments_lexer": "ipython3",
   "version": "3.6.1"
  }
 },
 "nbformat": 4,
 "nbformat_minor": 2
}
